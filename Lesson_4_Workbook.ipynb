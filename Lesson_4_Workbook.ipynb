{
  "nbformat": 4,
  "nbformat_minor": 0,
  "metadata": {
    "colab": {
      "name": "Lesson_4_Workbook.ipynb",
      "provenance": [],
      "collapsed_sections": []
    },
    "kernelspec": {
      "display_name": "Python 3",
      "name": "python3"
    },
    "language_info": {
      "name": "python"
    },
    "accelerator": "GPU"
  },
  "cells": [
    {
      "cell_type": "markdown",
      "metadata": {
        "id": "spxMAll8PAtG"
      },
      "source": [
        "### **Please run these lines first!**"
      ]
    },
    {
      "cell_type": "code",
      "metadata": {
        "id": "UwayZuKHOM5s"
      },
      "source": [
        "'''\n",
        "Thanh Tran\n",
        "22/06/2021\n",
        "'''\n",
        "from torchvision.datasets import MNIST\n",
        "import torch\n",
        "import torch.nn.functional as F\n",
        "import torchvision.transforms as transforms\n",
        "\n",
        "from torch import nn\n",
        "import matplotlib.pyplot as plt"
      ],
      "execution_count": null,
      "outputs": []
    },
    {
      "cell_type": "code",
      "metadata": {
        "id": "Nn4ZwPGGKV6T"
      },
      "source": [
        "!pip install -Uqq fastbook"
      ],
      "execution_count": null,
      "outputs": []
    },
    {
      "cell_type": "code",
      "metadata": {
        "id": "4kRuaBtKNhdW"
      },
      "source": [
        "import fastbook\n",
        "fastbook.setup_book()"
      ],
      "execution_count": null,
      "outputs": []
    },
    {
      "cell_type": "code",
      "metadata": {
        "id": "H_8Pu8TUR13d"
      },
      "source": [
        "from fastai.vision.all import *\n",
        "from fastbook import *\n",
        "\n",
        "matplotlib.rc('image', cmap='Greys')"
      ],
      "execution_count": null,
      "outputs": []
    },
    {
      "cell_type": "code",
      "metadata": {
        "id": "nrjEkYNNOQUO"
      },
      "source": [
        "#loading datasets from pytorch\n",
        "trainset = MNIST('../', download=True, train=True)\n",
        "testset = MNIST('../', download=True, train=False)"
      ],
      "execution_count": null,
      "outputs": []
    },
    {
      "cell_type": "markdown",
      "metadata": {
        "id": "d1hhYgbD20gl"
      },
      "source": [
        "# Hello World model"
      ]
    },
    {
      "cell_type": "markdown",
      "metadata": {
        "id": "fLRFqmDNVz_9"
      },
      "source": [
        "To gain better understanding of this cycle,\n",
        "I will provide an example with **10 digits classification problem**"
      ]
    },
    {
      "cell_type": "markdown",
      "metadata": {
        "id": "46BdMMg4V88z"
      },
      "source": [
        "![image.png](data:image/png;base64,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)"
      ]
    },
    {
      "cell_type": "markdown",
      "metadata": {
        "id": "0HmbuV9AP_rQ"
      },
      "source": [
        "### What do we have?"
      ]
    },
    {
      "cell_type": "code",
      "metadata": {
        "colab": {
          "base_uri": "https://localhost:8080/"
        },
        "id": "2kuR1h70OXhz",
        "outputId": "1ef83e46-ef86-4756-a84a-20770128ee83"
      },
      "source": [
        "# Show one sample?\n",
        "trainset.data[0]"
      ],
      "execution_count": null,
      "outputs": [
        {
          "output_type": "execute_result",
          "data": {
            "text/plain": [
              "tensor([[  0,   0,   0,   0,   0,   0,   0,   0,   0,   0,   0,   0,   0,   0,   0,   0,   0,   0,   0,   0,   0,   0,   0,   0,   0,   0,   0,   0],\n",
              "        [  0,   0,   0,   0,   0,   0,   0,   0,   0,   0,   0,   0,   0,   0,   0,   0,   0,   0,   0,   0,   0,   0,   0,   0,   0,   0,   0,   0],\n",
              "        [  0,   0,   0,   0,   0,   0,   0,   0,   0,   0,   0,   0,   0,   0,   0,   0,   0,   0,   0,   0,   0,   0,   0,   0,   0,   0,   0,   0],\n",
              "        [  0,   0,   0,   0,   0,   0,   0,   0,   0,   0,   0,   0,   0,   0,   0,   0,   0,   0,   0,   0,   0,   0,   0,   0,   0,   0,   0,   0],\n",
              "        [  0,   0,   0,   0,   0,   0,   0,   0,   0,   0,   0,   0,   0,   0,   0,   0,   0,   0,   0,   0,   0,   0,   0,   0,   0,   0,   0,   0],\n",
              "        [  0,   0,   0,   0,   0,   0,   0,   0,   0,   0,   0,   0,   3,  18,  18,  18, 126, 136, 175,  26, 166, 255, 247, 127,   0,   0,   0,   0],\n",
              "        [  0,   0,   0,   0,   0,   0,   0,   0,  30,  36,  94, 154, 170, 253, 253, 253, 253, 253, 225, 172, 253, 242, 195,  64,   0,   0,   0,   0],\n",
              "        [  0,   0,   0,   0,   0,   0,   0,  49, 238, 253, 253, 253, 253, 253, 253, 253, 253, 251,  93,  82,  82,  56,  39,   0,   0,   0,   0,   0],\n",
              "        [  0,   0,   0,   0,   0,   0,   0,  18, 219, 253, 253, 253, 253, 253, 198, 182, 247, 241,   0,   0,   0,   0,   0,   0,   0,   0,   0,   0],\n",
              "        [  0,   0,   0,   0,   0,   0,   0,   0,  80, 156, 107, 253, 253, 205,  11,   0,  43, 154,   0,   0,   0,   0,   0,   0,   0,   0,   0,   0],\n",
              "        [  0,   0,   0,   0,   0,   0,   0,   0,   0,  14,   1, 154, 253,  90,   0,   0,   0,   0,   0,   0,   0,   0,   0,   0,   0,   0,   0,   0],\n",
              "        [  0,   0,   0,   0,   0,   0,   0,   0,   0,   0,   0, 139, 253, 190,   2,   0,   0,   0,   0,   0,   0,   0,   0,   0,   0,   0,   0,   0],\n",
              "        [  0,   0,   0,   0,   0,   0,   0,   0,   0,   0,   0,  11, 190, 253,  70,   0,   0,   0,   0,   0,   0,   0,   0,   0,   0,   0,   0,   0],\n",
              "        [  0,   0,   0,   0,   0,   0,   0,   0,   0,   0,   0,   0,  35, 241, 225, 160, 108,   1,   0,   0,   0,   0,   0,   0,   0,   0,   0,   0],\n",
              "        [  0,   0,   0,   0,   0,   0,   0,   0,   0,   0,   0,   0,   0,  81, 240, 253, 253, 119,  25,   0,   0,   0,   0,   0,   0,   0,   0,   0],\n",
              "        [  0,   0,   0,   0,   0,   0,   0,   0,   0,   0,   0,   0,   0,   0,  45, 186, 253, 253, 150,  27,   0,   0,   0,   0,   0,   0,   0,   0],\n",
              "        [  0,   0,   0,   0,   0,   0,   0,   0,   0,   0,   0,   0,   0,   0,   0,  16,  93, 252, 253, 187,   0,   0,   0,   0,   0,   0,   0,   0],\n",
              "        [  0,   0,   0,   0,   0,   0,   0,   0,   0,   0,   0,   0,   0,   0,   0,   0,   0, 249, 253, 249,  64,   0,   0,   0,   0,   0,   0,   0],\n",
              "        [  0,   0,   0,   0,   0,   0,   0,   0,   0,   0,   0,   0,   0,   0,  46, 130, 183, 253, 253, 207,   2,   0,   0,   0,   0,   0,   0,   0],\n",
              "        [  0,   0,   0,   0,   0,   0,   0,   0,   0,   0,   0,   0,  39, 148, 229, 253, 253, 253, 250, 182,   0,   0,   0,   0,   0,   0,   0,   0],\n",
              "        [  0,   0,   0,   0,   0,   0,   0,   0,   0,   0,  24, 114, 221, 253, 253, 253, 253, 201,  78,   0,   0,   0,   0,   0,   0,   0,   0,   0],\n",
              "        [  0,   0,   0,   0,   0,   0,   0,   0,  23,  66, 213, 253, 253, 253, 253, 198,  81,   2,   0,   0,   0,   0,   0,   0,   0,   0,   0,   0],\n",
              "        [  0,   0,   0,   0,   0,   0,  18, 171, 219, 253, 253, 253, 253, 195,  80,   9,   0,   0,   0,   0,   0,   0,   0,   0,   0,   0,   0,   0],\n",
              "        [  0,   0,   0,   0,  55, 172, 226, 253, 253, 253, 253, 244, 133,  11,   0,   0,   0,   0,   0,   0,   0,   0,   0,   0,   0,   0,   0,   0],\n",
              "        [  0,   0,   0,   0, 136, 253, 253, 253, 212, 135, 132,  16,   0,   0,   0,   0,   0,   0,   0,   0,   0,   0,   0,   0,   0,   0,   0,   0],\n",
              "        [  0,   0,   0,   0,   0,   0,   0,   0,   0,   0,   0,   0,   0,   0,   0,   0,   0,   0,   0,   0,   0,   0,   0,   0,   0,   0,   0,   0],\n",
              "        [  0,   0,   0,   0,   0,   0,   0,   0,   0,   0,   0,   0,   0,   0,   0,   0,   0,   0,   0,   0,   0,   0,   0,   0,   0,   0,   0,   0],\n",
              "        [  0,   0,   0,   0,   0,   0,   0,   0,   0,   0,   0,   0,   0,   0,   0,   0,   0,   0,   0,   0,   0,   0,   0,   0,   0,   0,   0,   0]], dtype=torch.uint8)"
            ]
          },
          "metadata": {
            "tags": []
          },
          "execution_count": 27
        }
      ]
    },
    {
      "cell_type": "code",
      "metadata": {
        "colab": {
          "base_uri": "https://localhost:8080/",
          "height": 286
        },
        "id": "q0AkdAtcQhUm",
        "outputId": "ddb0a080-24e4-45e4-ad07-121be3aeddbf"
      },
      "source": [
        "# Show this sample as an image.\n",
        "plt.imshow(trainset.data[0])"
      ],
      "execution_count": null,
      "outputs": [
        {
          "output_type": "execute_result",
          "data": {
            "text/plain": [
              "<matplotlib.image.AxesImage at 0x7f14bf52cd50>"
            ]
          },
          "metadata": {
            "tags": []
          },
          "execution_count": 28
        },
        {
          "output_type": "display_data",
          "data": {
            "image/png": "[encoded data removed]",
            "text/plain": [
              "<Figure size 432x288 with 1 Axes>"
            ]
          },
          "metadata": {
            "tags": [],
            "needs_background": "light"
          }
        }
      ]
    },
    {
      "cell_type": "code",
      "metadata": {
        "colab": {
          "base_uri": "https://localhost:8080/"
        },
        "id": "HCohI2mBRAPb",
        "outputId": "d6781fc2-7c4a-4f0f-ba31-b5394ade891f"
      },
      "source": [
        "# Show the shape of this image.\n",
        "trainset.data[0].shape"
      ],
      "execution_count": null,
      "outputs": [
        {
          "output_type": "execute_result",
          "data": {
            "text/plain": [
              "torch.Size([28, 28])"
            ]
          },
          "metadata": {
            "tags": []
          },
          "execution_count": 29
        }
      ]
    },
    {
      "cell_type": "code",
      "metadata": {
        "id": "Z-sFndFNQtMi"
      },
      "source": [
        "# Get labels for train and test set\n",
        "y_train = trainset.targets\n",
        "y_test = testset.targets"
      ],
      "execution_count": null,
      "outputs": []
    },
    {
      "cell_type": "code",
      "metadata": {
        "colab": {
          "base_uri": "https://localhost:8080/"
        },
        "id": "Uuh867ivQz2a",
        "outputId": "8ea22d54-af22-4be4-ff1b-f244e0666fcc"
      },
      "source": [
        "# Show the label of trainset.data[0]\n",
        "y_train[0]  # indeed, the label for the first image is a 5"
      ],
      "execution_count": null,
      "outputs": [
        {
          "output_type": "execute_result",
          "data": {
            "text/plain": [
              "tensor(5)"
            ]
          },
          "metadata": {
            "tags": []
          },
          "execution_count": 31
        }
      ]
    },
    {
      "cell_type": "code",
      "metadata": {
        "colab": {
          "base_uri": "https://localhost:8080/"
        },
        "id": "0GszwL-hQ5VE",
        "outputId": "9fbfe3e0-3649-4640-d9d2-f164b0c12572"
      },
      "source": [
        "# Show the shape of train and test set\n",
        "trainset.data.shape, testset.data.shape # 60 000 images for training, 10 000 for testing"
      ],
      "execution_count": null,
      "outputs": [
        {
          "output_type": "execute_result",
          "data": {
            "text/plain": [
              "(torch.Size([60000, 28, 28]), torch.Size([10000, 28, 28]))"
            ]
          },
          "metadata": {
            "tags": []
          },
          "execution_count": 32
        }
      ]
    },
    {
      "cell_type": "code",
      "metadata": {
        "id": "R4rB33dkRU0k"
      },
      "source": [
        "# How to have all the pixels for an image in a single row ?\n",
        "train = trainset.data.reshape(60000, -1)\n",
        "test = testset.data.reshape(10000, -1)\n"
      ],
      "execution_count": null,
      "outputs": []
    },
    {
      "cell_type": "code",
      "metadata": {
        "colab": {
          "base_uri": "https://localhost:8080/"
        },
        "id": "48QRg8_AmxFr",
        "outputId": "b8990902-b717-4e76-b261-083176cc30e5"
      },
      "source": [
        "# Have a look at the shape of train and test\n",
        "train.shape[1] == 784\n",
        "test.shape[1] == 784"
      ],
      "execution_count": null,
      "outputs": [
        {
          "output_type": "execute_result",
          "data": {
            "text/plain": [
              "True"
            ]
          },
          "metadata": {
            "tags": []
          },
          "execution_count": 34
        }
      ]
    },
    {
      "cell_type": "code",
      "metadata": {
        "id": "uLGuBdlIRwVd"
      },
      "source": [
        "assert train.shape[1] == 784\n",
        "assert test.shape[1] == 784"
      ],
      "execution_count": null,
      "outputs": []
    },
    {
      "cell_type": "code",
      "metadata": {
        "colab": {
          "base_uri": "https://localhost:8080/"
        },
        "id": "8W-rueaO6SfA",
        "outputId": "13ffdb36-c643-462f-b791-5e294a117eb6"
      },
      "source": [
        "# Show datatype of train\n",
        "train.dtype\n"
      ],
      "execution_count": null,
      "outputs": [
        {
          "output_type": "execute_result",
          "data": {
            "text/plain": [
              "torch.uint8"
            ]
          },
          "metadata": {
            "tags": []
          },
          "execution_count": 36
        }
      ]
    },
    {
      "cell_type": "code",
      "metadata": {
        "id": "1lX8qH1x6U5Q"
      },
      "source": [
        "# Convert data to float32 torch tensors (float works better with Pytorch)\n",
        "train = train.to(torch.float32)\n",
        "test = test.to(torch.float32)"
      ],
      "execution_count": null,
      "outputs": []
    },
    {
      "cell_type": "markdown",
      "metadata": {
        "id": "sMDTRUTaN_1w"
      },
      "source": [
        "### Normalise data"
      ]
    },
    {
      "cell_type": "code",
      "metadata": {
        "colab": {
          "base_uri": "https://localhost:8080/"
        },
        "id": "19jbmea86fx5",
        "outputId": "4940414d-7b0a-42d0-eee1-04aba5713c2b"
      },
      "source": [
        "# The data isn't normalized\n",
        "# use the tensor method in the 3.1 notebook to print the mean and \n",
        "# standard deviation of the data\n",
        "m, std = train.mean(), train.std()\n",
        "print(m.item(), std.item())\n",
        "\n",
        "assert m.item() == 33.31842041015625\n",
        "assert std.item() == 78.56748962402344"
      ],
      "execution_count": null,
      "outputs": [
        {
          "output_type": "stream",
          "text": [
            "33.31842041015625 78.56748962402344\n"
          ],
          "name": "stdout"
        }
      ]
    },
    {
      "cell_type": "code",
      "metadata": {
        "colab": {
          "base_uri": "https://localhost:8080/"
        },
        "id": "lwLGUmRG61V6",
        "outputId": "08698626-8593-4712-a93e-23dd86d12ef1"
      },
      "source": [
        "# Normalise it\n",
        "train = (train - m) / std\n",
        "test = (test - m) / std # do the same for the test set\n",
        "print(train.mean(), train.std())  # 0 and 1, good"
      ],
      "execution_count": null,
      "outputs": [
        {
          "output_type": "stream",
          "text": [
            "tensor(1.8892e-08) tensor(1.)\n"
          ],
          "name": "stdout"
        }
      ]
    },
    {
      "cell_type": "code",
      "metadata": {
        "colab": {
          "base_uri": "https://localhost:8080/"
        },
        "id": "wkKbS1RS7FSM",
        "outputId": "21a5a1cb-41e2-4054-a4f6-4ecd7ecf0284"
      },
      "source": [
        "print(\"All possible classes (the numbers from 0 to 9):\", y_train.unique())\n",
        "print(\"There are\", len(y_train.unique()), \"classes\")"
      ],
      "execution_count": null,
      "outputs": [
        {
          "output_type": "stream",
          "text": [
            "All possible classes (the numbers from 0 to 9): tensor([0, 1, 2, 3, 4, 5, 6, 7, 8, 9])\n",
            "There are 10 classes\n"
          ],
          "name": "stdout"
        }
      ]
    },
    {
      "cell_type": "markdown",
      "metadata": {
        "id": "qqiX8lplNUzE"
      },
      "source": [
        "### Define a simple model/ MLP"
      ]
    },
    {
      "cell_type": "code",
      "metadata": {
        "id": "xSIH6APs7Nnw"
      },
      "source": [
        "# Build a model\n",
        "    #linear get 784-> 30\n",
        "    #non-linearity\n",
        "    #linear 30->10"
      ],
      "execution_count": null,
      "outputs": []
    },
    {
      "cell_type": "code",
      "metadata": {
        "colab": {
          "base_uri": "https://localhost:8080/"
        },
        "id": "EUhTMFhP7IoK",
        "outputId": "21433063-7b70-490a-e087-218858cfad95"
      },
      "source": [
        "# input your train data into your model to get predictions...\n",
        "  # should be torch.Size([60000, 10]), 10 preds for each of the 60k imgs"
      ],
      "execution_count": null,
      "outputs": [
        {
          "output_type": "execute_result",
          "data": {
            "text/plain": [
              "torch.Size([60000, 10])"
            ]
          },
          "metadata": {
            "tags": []
          },
          "execution_count": 153
        }
      ]
    },
    {
      "cell_type": "markdown",
      "metadata": {
        "id": "M9zupSfT7h0w"
      },
      "source": [
        "-> It outputs 10 numbers for each image in our dataset. \n",
        "\n",
        "In other words, \"For this sample, what is the probability that it is a 0 ? a one ? a two ? ... a nine ?\"\n",
        "\n",
        "***Are those numbers actually probabilities ?***"
      ]
    },
    {
      "cell_type": "markdown",
      "metadata": {
        "id": "2NAm0-7EQZmk"
      },
      "source": [
        "### Loss"
      ]
    },
    {
      "cell_type": "code",
      "metadata": {
        "colab": {
          "base_uri": "https://localhost:8080/"
        },
        "id": "p4MR2YW97zpJ",
        "outputId": "d39a74ca-c34e-48cf-93e5-9a0058d44d3b"
      },
      "source": [
        ""
      ],
      "execution_count": null,
      "outputs": [
        {
          "output_type": "execute_result",
          "data": {
            "text/plain": [
              "tensor([0.0831, 0.0974, 0.1060, 0.0823, 0.0932, 0.0713, 0.1281, 0.1245, 0.1272, 0.0868], grad_fn=<SelectBackward>)"
            ]
          },
          "metadata": {
            "tags": []
          },
          "execution_count": 78
        }
      ]
    },
    {
      "cell_type": "markdown",
      "metadata": {
        "id": "S28OPdiKO5Qt"
      },
      "source": [
        "\n",
        "\n",
        "***No, and we need a loss function (cross entropy)***\n",
        "\n",
        "\n",
        "1.   transform those numbers into numbers that behave like probabilities (they will sum to 1, and none will be greater than 1 or inferior to 0).\n",
        "2.   out of these 10 probability, it picks the one that relates to the class your model should have predicted. If this number happens to be 1, great: you predicted 100% probability that is was the correct class. If it's less than that, you get a penalty.\n",
        "\n"
      ]
    },
    {
      "cell_type": "markdown",
      "metadata": {
        "id": "0kY0eTCMQnbX"
      },
      "source": [
        "## Forward pass\n"
      ]
    },
    {
      "cell_type": "markdown",
      "metadata": {
        "id": "NAseNvuEWkNb"
      },
      "source": [
        "![image.png](data:image/png;base64,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)"
      ]
    },
    {
      "cell_type": "code",
      "metadata": {
        "colab": {
          "base_uri": "https://localhost:8080/"
        },
        "id": "EOWprzb773tj",
        "outputId": "fb642b5b-9044-4dd3-fe3d-f383450c2dcf"
      },
      "source": [
        ""
      ],
      "execution_count": null,
      "outputs": [
        {
          "output_type": "stream",
          "text": [
            "/usr/local/lib/python3.7/dist-packages/torch/nn/modules/container.py:139: UserWarning: Implicit dimension choice for softmax has been deprecated. Change the call to include dim=X as an argument.\n",
            "  input = module(input)\n"
          ],
          "name": "stderr"
        },
        {
          "output_type": "execute_result",
          "data": {
            "text/plain": [
              "tensor(2.3020, grad_fn=<NllLossBackward>)"
            ]
          },
          "metadata": {
            "tags": []
          },
          "execution_count": 117
        }
      ]
    },
    {
      "cell_type": "markdown",
      "metadata": {
        "id": "lbY4zrBYQ0Tk"
      },
      "source": [
        "## Training Loop"
      ]
    },
    {
      "cell_type": "markdown",
      "metadata": {
        "id": "ZbpY2zWMQ74q"
      },
      "source": [
        "![image.png](data:image/png;base64,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)"
      ]
    },
    {
      "cell_type": "code",
      "metadata": {
        "id": "QIgNJQqPzi7P"
      },
      "source": [
        "class BasicOptim: #We can use this information to create an optimizer:\n",
        "    "
      ],
      "execution_count": null,
      "outputs": []
    },
    {
      "cell_type": "code",
      "metadata": {
        "id": "ZHrI3rTbQ5tV"
      },
      "source": [
        "#Data and labels:\n",
        "INPUT = train\n",
        "TARGETS = y_train\n",
        "\n",
        "# parameters we can change:\n",
        "\n",
        "cr_loss = nn.CrossEntropyLoss() #F.cross_entropy(output, y_train)\n",
        "optimizer = #Optimizer"
      ],
      "execution_count": null,
      "outputs": []
    },
    {
      "cell_type": "markdown",
      "metadata": {
        "id": "O_AcBBh-VIKe"
      },
      "source": [
        "Updating weightsIn a neural network, weights are updated as follows:\n",
        "\n",
        "Step 1: Take a batch of training data.\n",
        "\n",
        "Step 2: Perform forward propagation to obtain the corresponding loss.\n",
        "\n",
        "Step 3: Backpropagate the loss to get the gradients.\n",
        "\n",
        "Step 4: Use the gradients to update the weights of the network."
      ]
    },
    {
      "cell_type": "code",
      "metadata": {
        "colab": {
          "base_uri": "https://localhost:8080/"
        },
        "id": "Fv2a3XLPQ_03",
        "outputId": "c0423e93-22bd-42b3-a079-3260ebb71ef8"
      },
      "source": [
        "\n",
        "\n",
        "# Training loop\n",
        "    # Forward + Backprop + Loss\n",
        "    ## l1_output = activation(INPUT @ layer1)  \n",
        "    ## model_output = l1_output @ layer2\n",
        "    \n",
        "    \n",
        "    ## Don't let the gradients accumulate:\n",
        "    \n",
        "\n",
        "    ## The next step is to calculate the gradients. \n",
        "    ## In other words, calculate \n",
        "    ## an approximation of how the parameters need to change:\n",
        "    \n",
        "\n",
        "    # Update model weights\n",
        "    ## update the parameters for layer1 and 2:\n",
        "    \n",
        "\n",
        "    # Show loss"
      ],
      "execution_count": null,
      "outputs": [
        {
          "output_type": "stream",
          "text": [
            "/usr/local/lib/python3.7/dist-packages/torch/nn/modules/container.py:139: UserWarning: Implicit dimension choice for softmax has been deprecated. Change the call to include dim=X as an argument.\n",
            "  input = module(input)\n"
          ],
          "name": "stderr"
        },
        {
          "output_type": "stream",
          "text": [
            "tensor(2.3030, grad_fn=<NllLossBackward>)\n",
            "tensor(2.2459, grad_fn=<NllLossBackward>)\n",
            "tensor(2.0340, grad_fn=<NllLossBackward>)\n",
            "tensor(1.8575, grad_fn=<NllLossBackward>)\n",
            "tensor(1.7984, grad_fn=<NllLossBackward>)\n",
            "tensor(1.7767, grad_fn=<NllLossBackward>)\n",
            "tensor(1.7628, grad_fn=<NllLossBackward>)\n",
            "tensor(1.7495, grad_fn=<NllLossBackward>)\n",
            "tensor(1.7409, grad_fn=<NllLossBackward>)\n",
            "tensor(1.7323, grad_fn=<NllLossBackward>)\n",
            "tensor(1.7141, grad_fn=<NllLossBackward>)\n",
            "tensor(1.6974, grad_fn=<NllLossBackward>)\n",
            "tensor(1.6925, grad_fn=<NllLossBackward>)\n",
            "tensor(1.6812, grad_fn=<NllLossBackward>)\n",
            "tensor(1.6604, grad_fn=<NllLossBackward>)\n",
            "tensor(1.6398, grad_fn=<NllLossBackward>)\n",
            "tensor(1.6254, grad_fn=<NllLossBackward>)\n",
            "tensor(1.6144, grad_fn=<NllLossBackward>)\n",
            "tensor(1.5998, grad_fn=<NllLossBackward>)\n",
            "tensor(1.5922, grad_fn=<NllLossBackward>)\n"
          ],
          "name": "stdout"
        }
      ]
    },
    {
      "cell_type": "markdown",
      "metadata": {
        "id": "SmQ2EYOPerWr"
      },
      "source": [
        "## Batch"
      ]
    },
    {
      "cell_type": "markdown",
      "metadata": {
        "id": "C10eA_6GexR3"
      },
      "source": [
        "![image.png](data:image/png;base64,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)"
      ]
    },
    {
      "cell_type": "markdown",
      "metadata": {
        "id": "70kn9nJodWRT"
      },
      "source": [
        "**We want a batch at a time not the entire dataset!**"
      ]
    },
    {
      "cell_type": "code",
      "metadata": {
        "id": "tOGp15TTdV2z"
      },
      "source": [
        "for i in range(EPOCHS):\n",
        "    \n",
        "        \n",
        "\n",
        "\n",
        "    "
      ],
      "execution_count": null,
      "outputs": []
    },
    {
      "cell_type": "markdown",
      "metadata": {
        "id": "gMdD5u6oTD2h"
      },
      "source": [
        "# Run a deeper model with Fastai"
      ]
    },
    {
      "cell_type": "markdown",
      "metadata": {
        "id": "4w6N9AEZT3Mx"
      },
      "source": [
        "\"So why would we use deeper models? The reason is performance. With a deeper model (that is, one with more layers) we do not need to use as many parameters; it turns out that we can use smaller matrices with more layers, and get better results than we would get with larger matrices, and few layers.\"\n",
        "\n"
      ]
    },
    {
      "cell_type": "code",
      "metadata": {
        "id": "dwPf5gQZLEPj"
      },
      "source": [
        "# Get MNIST SAMPLE from fastai\n"
      ],
      "execution_count": null,
      "outputs": []
    },
    {
      "cell_type": "code",
      "metadata": {
        "id": "UFFR1ZmbO3bX"
      },
      "source": [
        ""
      ],
      "execution_count": null,
      "outputs": []
    },
    {
      "cell_type": "code",
      "metadata": {
        "id": "16t4eceYSzhG"
      },
      "source": [
        ""
      ],
      "execution_count": null,
      "outputs": []
    },
    {
      "cell_type": "code",
      "metadata": {
        "id": "RBd7SOcfK6rT"
      },
      "source": [
        "# ResNet 18 layers\n",
        "\n",
        "# Fit one cycle\n"
      ],
      "execution_count": null,
      "outputs": []
    }
  ]
}