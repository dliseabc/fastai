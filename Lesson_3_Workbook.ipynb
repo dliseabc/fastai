{
  "nbformat": 4,
  "nbformat_minor": 0,
  "metadata": {
    "jupytext": {
      "split_at_heading": true
    },
    "kernelspec": {
      "display_name": "Python 3",
      "language": "python",
      "name": "python3"
    },
    "colab": {
      "name": "Lesson_3_Workbook.ipynb",
      "provenance": [],
      "collapsed_sections": []
    }
  },
  "cells": [
    {
      "cell_type": "markdown",
      "metadata": {
        "id": "BE_vITelWWx7"
      },
      "source": [
        "# Lesson 3 - Data manipulations\n",
        "\n",
        "Lesson 3 video (4_mnist_basics.ipynb notebook) builds a simple baseline model to recognize digits 3 and 7.\n",
        "In doing so, Jeremy reviews many useful concepts including arrays, tensors and lists. He also points to handy coding tips.\n",
        "\n",
        "In today's session we'll do a similar exercise with different data. This activity has two important benefits:\n",
        "* revise key concepts regarding data manipulation as tensors\n",
        "* solve some errors along the way (most usefule).\n",
        "\n",
        "If you are confident with tensor manipulations, feel free to go ahead and load data for a more complex task, e.g., object detection or your future project.\n"
      ]
    },
    {
      "cell_type": "code",
      "metadata": {
        "id": "U61ZETWFIh7a",
        "colab": {
          "base_uri": "https://localhost:8080/"
        },
        "outputId": "d693cad1-2f1e-439d-b84b-28016d5727f8"
      },
      "source": [
        "!pip install -Uqq fastbook\n",
        "import fastbook\n",
        "fastbook.setup_book()"
      ],
      "execution_count": 1,
      "outputs": [
        {
          "output_type": "stream",
          "text": [
            "\u001b[K     |████████████████████████████████| 727kB 7.7MB/s \n",
            "\u001b[K     |████████████████████████████████| 204kB 15.0MB/s \n",
            "\u001b[K     |████████████████████████████████| 1.2MB 16.3MB/s \n",
            "\u001b[K     |████████████████████████████████| 51kB 7.8MB/s \n",
            "\u001b[K     |████████████████████████████████| 61kB 9.0MB/s \n",
            "\u001b[K     |████████████████████████████████| 61kB 9.1MB/s \n",
            "\u001b[?25hMounted at /content/gdrive\n"
          ],
          "name": "stdout"
        }
      ]
    },
    {
      "cell_type": "code",
      "metadata": {
        "id": "-bY47B7iIh7d"
      },
      "source": [
        "from fastai.vision.all import *\n",
        "from fastbook import *\n",
        "\n",
        "matplotlib.rc('image', cmap='Greys')"
      ],
      "execution_count": 2,
      "outputs": []
    },
    {
      "cell_type": "markdown",
      "metadata": {
        "id": "fsdj6R6jI1G0"
      },
      "source": [
        "# Cats vs dogs: manual data loading\n",
        "\n",
        "At first we'll practice loading data into tensors manually.\n",
        "Look at 4_mnist_basics.ipynb notebook for tips.\n"
      ]
    },
    {
      "cell_type": "code",
      "metadata": {
        "id": "4-E9z0nSJL8f"
      },
      "source": [
        "# Load cats vs dogs dataset from fastai\n",
        "# hint: use URLs and untar_data\n",
        "\n",
        "path = "
      ],
      "execution_count": null,
      "outputs": []
    },
    {
      "cell_type": "markdown",
      "metadata": {
        "id": "08MTQsjXy5nZ"
      },
      "source": [
        "It is important to understand the data before building a model.\n",
        "\n",
        "* What is the structure of the data? \n",
        "* How are the labels are stored?\n",
        "* Is there a predefined train/valid/test split or we should split the data?\n"
      ]
    },
    {
      "cell_type": "code",
      "metadata": {
        "id": "6HbO76FqykDh"
      },
      "source": [
        "# where is the data downloaded?\n",
        "path"
      ],
      "execution_count": null,
      "outputs": []
    },
    {
      "cell_type": "markdown",
      "metadata": {
        "id": "exG2RTDT0lHC"
      },
      "source": [
        "`path` is not just a string storing the directory where you data was downloaded. It is a `PosixPath` - a Python standard library. `PosixPath` have a bunch of useful methods."
      ]
    },
    {
      "cell_type": "code",
      "metadata": {
        "id": "mAROr5juJuHV"
      },
      "source": [
        "Path.BASE_PATH = path"
      ],
      "execution_count": null,
      "outputs": []
    },
    {
      "cell_type": "markdown",
      "metadata": {
        "id": "6_gNclLTXttl"
      },
      "source": [
        "**Q:** Do you know how to load data in the folder of your choice?"
      ]
    },
    {
      "cell_type": "code",
      "metadata": {
        "id": "clm08ffGJ-UZ"
      },
      "source": [
        "# Display the content of downloaded data:\n"
      ],
      "execution_count": null,
      "outputs": []
    },
    {
      "cell_type": "code",
      "metadata": {
        "id": "Kh7q40VMIthI"
      },
      "source": [
        "# How many images are in the dataset?\n"
      ],
      "execution_count": null,
      "outputs": []
    },
    {
      "cell_type": "markdown",
      "metadata": {
        "id": "JNZcfAxrzZx9"
      },
      "source": [
        "We'll use Jeremy's example of digit classifier in 04_mnist_basics.ipynb as a guide and do similar steps for cats vs dogs."
      ]
    },
    {
      "cell_type": "code",
      "metadata": {
        "id": "pmzeRvGiKbeL"
      },
      "source": [
        "# Load a list of filenames for cats\n",
        "# Hint: what is the difference between mnist and dogs/cats use case?\n",
        "\n",
        "cats_path = "
      ],
      "execution_count": null,
      "outputs": []
    },
    {
      "cell_type": "code",
      "metadata": {
        "id": "no8ymDUUMO0n"
      },
      "source": [
        "# Load a list of filenames for dogs\n",
        "dogs_path = "
      ],
      "execution_count": null,
      "outputs": []
    },
    {
      "cell_type": "code",
      "metadata": {
        "id": "g5fHpYW_MXkb"
      },
      "source": [
        "# Add a sanity check that no entry are lost\n"
      ],
      "execution_count": null,
      "outputs": []
    },
    {
      "cell_type": "code",
      "metadata": {
        "id": "5TmG-72uMjRV"
      },
      "source": [
        "# Display one random image. Check how different our cat image from a digit image. \n",
        "cat = "
      ],
      "execution_count": null,
      "outputs": []
    },
    {
      "cell_type": "code",
      "metadata": {
        "id": "Rsk6-OGfNzGc"
      },
      "source": [
        "# Display random dog image\n",
        "dog = "
      ],
      "execution_count": null,
      "outputs": []
    },
    {
      "cell_type": "code",
      "metadata": {
        "id": "Fb2dc34nN3Of"
      },
      "source": [
        "# Display image size\n"
      ],
      "execution_count": null,
      "outputs": []
    },
    {
      "cell_type": "code",
      "metadata": {
        "id": "eLXpck7mNjC9"
      },
      "source": [
        "# Convert cat image to an array and check the shape\n"
      ],
      "execution_count": null,
      "outputs": []
    },
    {
      "cell_type": "code",
      "metadata": {
        "id": "BM-P1_AfMe1y"
      },
      "source": [
        "# Convert cat image to a tensor and check the shape\n"
      ],
      "execution_count": null,
      "outputs": []
    },
    {
      "cell_type": "code",
      "metadata": {
        "id": "3TKowMRSOEd6"
      },
      "source": [
        "# Display a slice of cat array:\n",
        "# display top left corner 10x10 pixels\n",
        "\n",
        "\n",
        "# display bottom right corner 10:10 pixels\n"
      ],
      "execution_count": null,
      "outputs": []
    },
    {
      "cell_type": "code",
      "metadata": {
        "id": "YfJ2C17jLdKG"
      },
      "source": [
        "# Read a list of cat images (cats_path) to a list of tensors\n",
        "cat_tensors = "
      ],
      "execution_count": null,
      "outputs": []
    },
    {
      "cell_type": "code",
      "metadata": {
        "id": "BXAG0C9Pd0SU"
      },
      "source": [
        "# Read a list of dog images (dogs_path) to a list of tensors\n",
        "dogs_tensors = "
      ],
      "execution_count": null,
      "outputs": []
    },
    {
      "cell_type": "code",
      "metadata": {
        "id": "JN8Q6cvRRm9o"
      },
      "source": [
        "# Show ramdon cat image\n"
      ],
      "execution_count": null,
      "outputs": []
    },
    {
      "cell_type": "code",
      "metadata": {
        "id": "t9NsRQgHSl4p"
      },
      "source": [
        "# Display separately each channel (RGB) for one image\n"
      ],
      "execution_count": null,
      "outputs": []
    },
    {
      "cell_type": "code",
      "metadata": {
        "id": "QSzMhhFwTQj5"
      },
      "source": [
        "# Stack a list of tensors for cats into one tensor:\n",
        "stacked_cats = \n",
        "# Stack a list of tensors for dogs into one tensor:\n",
        "stacked_dogs = "
      ],
      "execution_count": null,
      "outputs": []
    },
    {
      "cell_type": "code",
      "metadata": {
        "id": "zv_8CFjYUxzt"
      },
      "source": [
        "# Display shapes of tensors:\n"
      ],
      "execution_count": null,
      "outputs": []
    },
    {
      "cell_type": "code",
      "metadata": {
        "id": "Ucw76Q-nV6WG"
      },
      "source": [
        "# Show mean image for cats and dogs.\n",
        "# Tip: show each channel separately\n"
      ],
      "execution_count": null,
      "outputs": []
    },
    {
      "cell_type": "markdown",
      "metadata": {
        "id": "nSoUnqbpfcxL"
      },
      "source": [
        "This example demonstrates that loading data manually (without using fastai or any other high level framework) is long and cumberstone process.\n",
        "\n",
        "**Q:** Name at least three points where we cut corners and made some simplification?"
      ]
    },
    {
      "cell_type": "markdown",
      "metadata": {
        "id": "cxMzeu7_9b16"
      },
      "source": [
        "# Cats vs dogs - load data with DataBlock\n",
        "\n",
        "Let's load the same data with FastAI DataBlock."
      ]
    },
    {
      "cell_type": "code",
      "metadata": {
        "id": "dH6w7wQbb99I"
      },
      "source": [
        "# Load  cats/dogs dataset with DataBlock\n",
        "pets = DataBlock(\n",
        "    \n",
        ")"
      ],
      "execution_count": null,
      "outputs": []
    },
    {
      "cell_type": "code",
      "metadata": {
        "id": "QzzNAwX3kZoK"
      },
      "source": [
        "# Display a training batch\n"
      ],
      "execution_count": null,
      "outputs": []
    },
    {
      "cell_type": "code",
      "metadata": {
        "id": "3bVpcdVtX6J7"
      },
      "source": [
        "# Define a new DataBlock with resizing method to Squish\n",
        "pets = \n",
        "\n",
        "# Show a batch of 6 training images\n"
      ],
      "execution_count": null,
      "outputs": []
    },
    {
      "cell_type": "code",
      "metadata": {
        "id": "2wylqSPVXxDd"
      },
      "source": [
        "# Define a new DataBlock and add data augmentations\n",
        "pets = \n",
        "\n",
        "# Show a batch of 6 training images\n",
        "# Hint: use 'unique' param to different view augmentations of one image\n"
      ],
      "execution_count": null,
      "outputs": []
    },
    {
      "cell_type": "markdown",
      "metadata": {
        "id": "cGa-ptfR9X46"
      },
      "source": [
        "# Data augmentations for Food dataset\n",
        "\n",
        "Let's look into data augmentations and practice it on Food dataset.\n",
        "FastAI provides a function `aug_transforms` that have some useful default parameters.\n",
        "\n",
        "Experiment with parameters of `aug_transform` to generate diverse augmentations.\n",
        "\n",
        "Go ahead and complete this example with finetuning a `Learner` (as in Lesson 1 notebook) and observe how data augmentation influence the validationi accuracy (use GPU runtime for training)."
      ]
    },
    {
      "cell_type": "code",
      "metadata": {
        "id": "Sbzrn4GK9Sjc"
      },
      "source": [
        "# Load data\n",
        "path = untar_data(URLs.FOOD)"
      ],
      "execution_count": null,
      "outputs": []
    },
    {
      "cell_type": "code",
      "metadata": {
        "id": "PFtMOPiM-ysY"
      },
      "source": [
        "food = DataBlock(\n",
        "    # TODO add input params\n",
        ")"
      ],
      "execution_count": null,
      "outputs": []
    },
    {
      "cell_type": "code",
      "metadata": {
        "id": "kJMpzpMY-7cL"
      },
      "source": [
        "dls = "
      ],
      "execution_count": null,
      "outputs": []
    },
    {
      "cell_type": "code",
      "metadata": {
        "id": "IitARTOv-_E7"
      },
      "source": [
        "dls.train.show_batch()"
      ],
      "execution_count": null,
      "outputs": []
    },
    {
      "cell_type": "code",
      "metadata": {
        "id": "SXUZHjUB_BIY"
      },
      "source": [
        "learn = cnn_learner(# TODO"
      ],
      "execution_count": null,
      "outputs": []
    },
    {
      "cell_type": "markdown",
      "metadata": {
        "id": "8RxTxtRb3r29"
      },
      "source": [
        "**Q:** Where to go next?\n",
        "\n",
        "**A**: Go through [DataBlock tutorial](https://docs.fast.ai/tutorial.datablock.html) in docs to see examples with different data and problems.\n",
        "\n",
        "If you've already picked a project, practice with your project's data."
      ]
    }
  ]
}